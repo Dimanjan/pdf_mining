{
 "cells": [
  {
   "cell_type": "code",
   "execution_count": null,
   "metadata": {},
   "outputs": [],
   "source": [
    "file_content=open(\"test.txt\", \"r\",encoding='utf-8').read()"
   ]
  },
  {
   "cell_type": "code",
   "execution_count": null,
   "metadata": {},
   "outputs": [],
   "source": [
    "lst=[]\n",
    "for line in str(file_content).split('\\n'):\n",
    "    for word in line.split():\n",
    "        lst.append(word)\n",
    "lst[65:70]"
   ]
  },
  {
   "cell_type": "code",
   "execution_count": null,
   "metadata": {},
   "outputs": [],
   "source": []
  },
  {
   "cell_type": "code",
   "execution_count": null,
   "metadata": {},
   "outputs": [],
   "source": [
    "dct={}\n",
    "key_end=False\n",
    "key='default'\n",
    "\n",
    "num_end=True\n",
    "nums=[]\n",
    "\n",
    "def add_to_dct(index):\n",
    "    global lst,key_end,key,dct,num_end,nums\n",
    "    # stop if list index out of range\n",
    "    if index>=len(lst):\n",
    "        return\n",
    "    item=lst[index]\n",
    "\n",
    "    print(index,key_end,key,dct,num_end,nums)\n",
    "\n",
    "    if num_end == False:\n",
    "        dct[key]=nums\n",
    "        if item.isdigit():\n",
    "            nums.append(item)\n",
    "            index+=1\n",
    "            num_end=False\n",
    "            key_end=True\n",
    "        else:\n",
    "            nums=[]\n",
    "            key='default'\n",
    "            key_end=False\n",
    "            num_end=True\n",
    "        \n",
    "\n",
    "    if key_end == False:\n",
    "        print('key_end',key_end)\n",
    "        try:\n",
    "            float(item)\n",
    "            print('item is float')\n",
    "            num_end = False\n",
    "            key_end = True\n",
    "\n",
    "        except:\n",
    "            print('item is key material')\n",
    "            index+=1\n",
    "            key+=item\n",
    "            key_end = False\n",
    "            num_end = True\n",
    "    add_to_dct(index)\n",
    "            \n",
    "add_to_dct(0)        \n",
    "dct\n"
   ]
  },
  {
   "cell_type": "code",
   "execution_count": 58,
   "metadata": {},
   "outputs": [],
   "source": [
    "dct={}\n",
    "nums=[]\n",
    "key='default'\n",
    "for l in lst:\n",
    "\n",
    "    if l.isdigit():\n",
    "        dct[key]=nums\n",
    "        nums.append(l)\n",
    "        key='default'\n",
    "\n",
    "    else:\n",
    "        if key=='default':\n",
    "            key=''\n",
    "        nums=[]\n",
    "        key+=l"
   ]
  },
  {
   "cell_type": "code",
   "execution_count": 59,
   "metadata": {},
   "outputs": [
    {
     "data": {
      "text/plain": [
       "dict_keys(['default', '3.ननर्ाान्चतउम्मेदर्ािकोदलगतसङ्\\u200dख्यात्मकक्रर्र्िणप्रदेशनं.िाजनीनतकदल/स्र्ततरप्रमुखउपप्रमुखअध्यक्षउपाध्यक्षर्डाअध्यक्षसदस्यमक्रहलासदस्यदनलतमक्रहलासदस्यजम्मापुमतेनलकूलपुमतेनलकूलपुमतेनलकूलपुमतेनलकूलपुमतेनलकूलपुमतेनलकूल', 'नेपालीकााँग्रेस', 'नेपालकम्युननिपाटी(एकीकृतमाक्सार्ादी-लेनननर्ादी)', 'नेपालकम्युननिपाटी(माओर्ादीकेतर)', 'िाक्रष्ट्रयप्रजाततरपाटी', 'संघीयसमाजर्ादीफोिम,नेपाल', 'मधेशीजनअनधकािफोिम,नेपाल(लोकतान्तरक)', 'नेपालकम्युननिपाटी(माक्सार्ादी–लेनननर्ादी)', 'संघीयलोकतान्तरक', 'प्रदेशनं.िाजनीनतकदल/स्र्ततरप्रमुखउपप्रमुखअध्यक्षउपाध्यक्षर्डाअध्यक्षसदस्यमक्रहलासदस्यदनलतमक्रहलासदस्यजम्मापुमतेनलकूलपुमतेनलकूलपुमतेनलकूलपुमतेनलकूलपुमतेनलकूलपुमतेनलकूलिाक्रष्ट्रयमञ्चिाक्रष्ट्रयजनमुन्क्तपाटी', 'नयााँशन्क्तपाटी,नेपाल', 'स्र्ततर', 'जम्मा'])"
      ]
     },
     "execution_count": 59,
     "metadata": {},
     "output_type": "execute_result"
    }
   ],
   "source": [
    "dct.keys()"
   ]
  },
  {
   "cell_type": "code",
   "execution_count": 61,
   "metadata": {},
   "outputs": [
    {
     "name": "stdout",
     "output_type": "stream",
     "text": [
      "2\n",
      "['604', '3']\n",
      "1\n",
      "['1']\n",
      "29\n",
      "['19', '0', '0', '19', '0', '9', '0', '9', '32', '0', '0', '32', '1', '28', '0', '29', '417', '1', '0', '41', '8', '734', '15', '0', '749', '371', '372', '199', '9']\n",
      "37\n",
      "['2', '8', '0', '0', '28', '0', '3', '7', '0', '37', '4', '0', '1', '0', '41', '3', '4', '5', '0', '48', '54', '4', '1', '0', '0', '55', '4', '122', '9', '2', '5', '0', '125', '4', '634', '623', '3219']\n",
      "27\n",
      "['1', '0', '0', '1', '1', '1', '0', '2', '8', '0', '0', '8', '1', '4', '0', '5', '114', '0', '0', '114', '192', '2', '0', '194', '92', '90', '506']\n",
      "27\n",
      "['0', '0', '0', '0', '0', '0', '0', '0', '3', '0', '0', '3', '0', '1', '0', '1', '9', '0', '0', '9', '13', '0', '0', '13', '6', '7', '39']\n",
      "27\n",
      "['0', '0', '0', '0', '0', '0', '0', '0', '2', '0', '0', '2', '0', '2', '0', '2', '28', '0', '0', '28', '47', '2', '0', '49', '29', '28', '138']\n",
      "27\n",
      "['1', '0', '0', '1', '0', '1', '0', '1', '2', '0', '0', '2', '0', '3', '0', '3', '20', '0', '0', '20', '39', '0', '0', '39', '20', '21', '107']\n",
      "27\n",
      "['0', '0', '0', '0', '0', '0', '0', '0', '0', '0', '0', '0', '0', '0', '0', '0', '1', '0', '0', '1', '0', '0', '0', '0', '0', '0', '1']\n",
      "28\n",
      "['0', '0', '0', '0', '0', '0', '0', '0', '0', '0', '0', '0', '0', '0', '0', '0', '1', '0', '0', '1', '4', '0', '0', '4', '1', '1', '7', '16']\n",
      "27\n",
      "['0', '0', '0', '0', '0', '0', '0', '0', '0', '0', '0', '0', '0', '0', '0', '0', '1', '0', '0', '1', '1', '1', '0', '2', '1', '1', '5']\n",
      "27\n",
      "['0', '0', '0', '0', '0', '0', '0', '0', '0', '0', '0', '0', '0', '0', '0', '0', '2', '0', '0', '2', '2', '0', '0', '2', '0', '0', '4']\n",
      "27\n",
      "['0', '0', '0', '0', '0', '0', '0', '0', '0', '0', '0', '0', '0', '0', '0', '0', '8', '0', '0', '8', '6', '0', '0', '6', '2', '2', '18']\n",
      "2\n",
      "['604', '3']\n"
     ]
    }
   ],
   "source": [
    "for key in dct.keys():\n",
    "    print(len(dct[key]))\n",
    "    print(dct[key])"
   ]
  },
  {
   "cell_type": "code",
   "execution_count": null,
   "metadata": {},
   "outputs": [],
   "source": []
  }
 ],
 "metadata": {
  "interpreter": {
   "hash": "db9fc68565ef38fe6ff00fe50e1259480a24ee4310fe720951580740f945e42d"
  },
  "kernelspec": {
   "display_name": "Python 3.7.1 32-bit",
   "language": "python",
   "name": "python3"
  },
  "language_info": {
   "codemirror_mode": {
    "name": "ipython",
    "version": 3
   },
   "file_extension": ".py",
   "mimetype": "text/x-python",
   "name": "python",
   "nbconvert_exporter": "python",
   "pygments_lexer": "ipython3",
   "version": "3.7.1"
  },
  "orig_nbformat": 4
 },
 "nbformat": 4,
 "nbformat_minor": 2
}
